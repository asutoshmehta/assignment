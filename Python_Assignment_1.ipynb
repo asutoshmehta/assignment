{
  "nbformat": 4,
  "nbformat_minor": 0,
  "metadata": {
    "colab": {
      "name": "Python_Assignment_1.ipynb",
      "provenance": []
    },
    "kernelspec": {
      "name": "python3",
      "display_name": "Python 3"
    },
    "language_info": {
      "name": "python"
    }
  },
  "cells": [
    {
      "cell_type": "markdown",
      "metadata": {
        "id": "rlGRapkzSw08"
      },
      "source": [
        "1. mathematical operators are : *,+,-,/\n",
        "   String ='hello'\n",
        "   integer = 6\n",
        "   Floating point = -87.8\n",
        "\n",
        "\n",
        "2. A string is a literal text string.\n",
        "    e.g. 'Hello'.\n",
        "  A variable is something that stores data (per se) - it can store a string,    int, float, class, etc.\n",
        "\n",
        "3. Integer (int): It is the most common numeric data type used to store numbers without a fractional component.e.g. 1,2,3...\n",
        "Floating Point (float): It is the numeric data type used to store numbers with a fractional component. e.g.2.3,10.5....\n",
        "String (str or text):A string is a literal text string.  e.g. 'Hello'.\n",
        "\n",
        "4.An expression is a construct made up of variables, operators, and method invocations, which are constructed according to the syntax of the language, that evaluates to a single value. ... As you can see from the other expressions, an expression can return other types of values as well, such as boolean or String .\n",
        "\n",
        "5.Statements represent an action or command e.g print statements, assignment statements. Expression is a combination of variables, operations and values that yields a result value. An expression is a combination of values, variables, operators, and calls to functions.\n",
        "\n",
        "6. value will become 23\n",
        "7. 'spamspamspam'\n",
        "   'spamspamspam'\n",
        "8. eggs is valid variable name because as per  naming convention in python variable name should not start with any number.\n",
        "\n",
        "9. for string str()\n",
        "   for Integer int()\n",
        "   for floating point float()\n",
        "\n",
        "10.In given statement 99 is integer while both the other components are strings so on execution of code it will generate an error to overcome an error we have to convert 99 in to the string by str(99) or \"99\"."
      ]
    },
    {
      "cell_type": "code",
      "metadata": {
        "colab": {
          "base_uri": "https://localhost:8080/",
          "height": 35
        },
        "id": "3MbbhTtWSjIH",
        "outputId": "44df78d7-2ad3-44c3-88f2-41aa02755e85"
      },
      "source": [
        "\"spam\"+\"spamspam\"\n",
        "'spam'*3"
      ],
      "execution_count": null,
      "outputs": [
        {
          "output_type": "execute_result",
          "data": {
            "application/vnd.google.colaboratory.intrinsic+json": {
              "type": "string"
            },
            "text/plain": [
              "'spamspamspam'"
            ]
          },
          "metadata": {
            "tags": []
          },
          "execution_count": 2
        }
      ]
    },
    {
      "cell_type": "markdown",
      "metadata": {
        "id": "tJIEwV2KSthc"
      },
      "source": [
        ""
      ]
    }
  ]
}