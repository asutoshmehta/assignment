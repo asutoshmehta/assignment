{
 "cells": [
  {
   "cell_type": "markdown",
   "metadata": {},
   "source": [
    "### Write a program to find factorial of given number"
   ]
  },
  {
   "cell_type": "code",
   "execution_count": null,
   "metadata": {},
   "outputs": [],
   "source": [
    "num = int(input(\"Enter Any Number :\"))\n",
    "fact = 1\n",
    "for i in range(1, num + 1 ) :\n",
    "    fact = fact * i\n",
    "    print(\"The factorial of given Number is :\", fact)\n",
    "    "
   ]
  },
  {
   "cell_type": "markdown",
   "metadata": {},
   "source": [
    "### Write a program to display multiplication table"
   ]
  },
  {
   "cell_type": "code",
   "execution_count": null,
   "metadata": {},
   "outputs": [],
   "source": [
    "num = int(input(\"Enter Any Number :\"))\n",
    "for i in range(1 , 11) :\n",
    "    print(num ,\"X\" ,i , \"=\", num*i)"
   ]
  },
  {
   "cell_type": "code",
   "execution_count": null,
   "metadata": {},
   "outputs": [],
   "source": [
    "num = int(input(\"Enter Any Number :\"))\n",
    "feb = 0\n",
    "for i in range(0,num) :\n",
    "    for j in range(0,i) :\n",
    "        feb = i+j\n",
    "        i = i+1\n",
    "        j = j+1\n",
    "        print(feb)\n",
    "        \n"
   ]
  },
  {
   "cell_type": "markdown",
   "metadata": {},
   "source": [
    "### Write a program to check given number is an Armstrong Number or Not"
   ]
  },
  {
   "cell_type": "code",
   "execution_count": null,
   "metadata": {},
   "outputs": [],
   "source": [
    "num = int(input(\"Enter Any Number :\"))\n",
    "s = 0\n",
    "temp = num\n",
    "while temp > 0:\n",
    "    digit = temp % 10\n",
    "    s = s + digit ** 3\n",
    "    temp = temp//10\n",
    "if num == s :\n",
    "    print(\"The Entered Number Is An Armstrong Number\")\n",
    "else :\n",
    "    print(\"The Entered Number Is not An Armstrong Number\")\n",
    "    "
   ]
  },
  {
   "cell_type": "markdown",
   "metadata": {},
   "source": [
    "### Write a program to check Armstrong Numbers in given range"
   ]
  },
  {
   "cell_type": "code",
   "execution_count": 18,
   "metadata": {},
   "outputs": [
    {
     "name": "stdout",
     "output_type": "stream",
     "text": [
      "Enter lower range: 1\n",
      "Enter upper range: 1000\n",
      "1\n",
      "64\n",
      "125\n",
      "153\n",
      "216\n",
      "370\n",
      "371\n",
      "407\n",
      "729\n"
     ]
    }
   ],
   "source": [
    "lower = int(input(\"Enter lower range: \"))  \n",
    "upper = int(input(\"Enter upper range: \"))  \n",
    "  \n",
    "for num in range(lower,upper + 1): \n",
    "    sum = 0\n",
    "    temp = num \n",
    "    while temp > 0: \n",
    "        digit = temp% 10\n",
    "        sum = sum + digit ** 3\n",
    "        temp = temp//10\n",
    "        if num == sum :\n",
    "            \n",
    "            print(num)  "
   ]
  },
  {
   "cell_type": "markdown",
   "metadata": {},
   "source": [
    "### Write a prograam to find sum of natural numbers"
   ]
  },
  {
   "cell_type": "code",
   "execution_count": 7,
   "metadata": {},
   "outputs": [
    {
     "name": "stdout",
     "output_type": "stream",
     "text": [
      "Enter Any Number :16\n",
      "The  sum Of Natural Numbers In given Range is :  136\n"
     ]
    }
   ],
   "source": [
    "num = int(input(\"Enter Any Number :\"))\n",
    "sum = 0\n",
    "while num > 0 :\n",
    "    sum = sum + num\n",
    "    num = num - 1\n",
    "print(\"The  sum Of Natural Numbers In given Range is : \", sum)\n"
   ]
  },
  {
   "cell_type": "code",
   "execution_count": null,
   "metadata": {},
   "outputs": [],
   "source": []
  }
 ],
 "metadata": {
  "kernelspec": {
   "display_name": "Python 3",
   "language": "python",
   "name": "python3"
  }
 },
 "nbformat": 4,
 "nbformat_minor": 4
}
