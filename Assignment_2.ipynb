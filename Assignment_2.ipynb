{
 "cells": [
  {
   "cell_type": "markdown",
   "metadata": {},
   "source": [
    "###  1. What are the values of boolean data type? how do you write them?"
   ]
  },
  {
   "cell_type": "markdown",
   "metadata": {},
   "source": [
    "### Ans : the values of boolean data types are True and False . "
   ]
  },
  {
   "cell_type": "markdown",
   "metadata": {},
   "source": [
    "### 2. What are three types of boolean operators?"
   ]
  },
  {
   "cell_type": "markdown",
   "metadata": {},
   "source": [
    "### Ans : the three types of boolean operators are and, or, and not"
   ]
  },
  {
   "cell_type": "markdown",
   "metadata": {},
   "source": [
    "### 3. make a list of each boolean's operator's truth table"
   ]
  },
  {
   "cell_type": "code",
   "execution_count": null,
   "metadata": {},
   "outputs": [],
   "source": [
    "### Ans: AND Truth Table             \n",
    "x\t    and   y\t    Returns              \n",
    "True\tand\t True\tTrue\n",
    "True\tand\t False\tFalse\n",
    "False\tand\t True\tFalse\n",
    "False\tand\t False\tFalse\n",
    " \n",
    "### OR Truth Table\n",
    "x\t    or\t y\t    Returns\n",
    "True\tor\tTrue\tTrue\n",
    "True\tor\tFalse\tTrue\n",
    "False\tor\tTrue\tTrue\n",
    "False\tor\tFalse\tFalse\n",
    "\n",
    "\n",
    "### NOT Truth Table\n",
    "not\tx\t    Returns\n",
    "not\tTrue\tFalse\n",
    "not\tFalse\tTrue\n",
    "\n",
    "\n"
   ]
  },
  {
   "cell_type": "markdown",
   "metadata": {},
   "source": [
    "### 4. what are the values for the expressions (5>4) and (3==5), not (5>4),(5>4) or (3==5), not((5>4) or (3==5))"
   ]
  },
  {
   "cell_type": "markdown",
   "metadata": {},
   "source": [
    "### Ans:\n",
    "1:\n",
    "(5>4) and (3==5) = False\n",
    "2:\n",
    "not(5>4)  = False\n",
    "\n",
    "3:\n",
    "(5>4) or (3==5) = True\n",
    "\n",
    "4:\n",
    "not((5>4) or (3==5)) = True"
   ]
  },
  {
   "cell_type": "markdown",
   "metadata": {},
   "source": [
    "### 5. What are the six comparison operators?"
   ]
  },
  {
   "cell_type": "markdown",
   "metadata": {},
   "source": [
    "### Ans:The six comparison operators are\n",
    "equal to(==) ,less than( <)  , greater than( >) , not equal to(!=) ,not less than(!<),not greater than(!>) ."
   ]
  },
  {
   "cell_type": "markdown",
   "metadata": {},
   "source": [
    "### 6. How do you tell the difference between equal to and assignment opertors? Describe a conditoin and when you would use it?"
   ]
  },
  {
   "cell_type": "markdown",
   "metadata": {},
   "source": [
    "### Ans : the assignment operator is '=' while equal to is '=='\n",
    "when we assign some value to the variable we use assignment operators\n",
    "x = 10\n",
    "when we have to compare variables we use equal to \n",
    "if x == 10 :"
   ]
  },
  {
   "cell_type": "markdown",
   "metadata": {},
   "source": [
    "### 7. Identify the three blocks in this code\n",
    "spam = 0\n",
    "if spam == 10:\n",
    "print(\"eggs\")\n",
    "if spam > 5 :\n",
    "print(\"bacon\")\n",
    "else :\n",
    "print('ham')\n",
    "print('spam')\n",
    "print('spam')"
   ]
  },
  {
   "cell_type": "code",
   "execution_count": 1,
   "metadata": {},
   "outputs": [
    {
     "name": "stdout",
     "output_type": "stream",
     "text": [
      "ham\n",
      "spam\n",
      "spam\n"
     ]
    }
   ],
   "source": [
    "spam = 0\n",
    "if spam == 10:#first block\n",
    "    print(\"eggs\")\n",
    "if spam > 5 :#second block\n",
    "    print(\"bacon\")\n",
    "else :#third block\n",
    "    print('ham')\n",
    "    print('spam')\n",
    "    print('spam')"
   ]
  },
  {
   "cell_type": "markdown",
   "metadata": {},
   "source": [
    "### 8. write code that prints hello if 1 is stored in spam , prints howdy if 2 stored in spam and prints greetings if anything else stored in spam"
   ]
  },
  {
   "cell_type": "code",
   "execution_count": 4,
   "metadata": {},
   "outputs": [
    {
     "name": "stdout",
     "output_type": "stream",
     "text": [
      "Enter any value 3\n",
      "Greetings\n"
     ]
    }
   ],
   "source": [
    "spam = int(input(\"Enter any value \")) \n",
    "if spam == 1 :\n",
    "    print(\"Hello\")\n",
    "elif spam == 2 :\n",
    "    print(\"Howdy\")\n",
    "else :\n",
    "    print(\"Greetings\")"
   ]
  },
  {
   "cell_type": "markdown",
   "metadata": {},
   "source": [
    "### 9. If your program is stuck in endless loop, what key you will press?"
   ]
  },
  {
   "cell_type": "markdown",
   "metadata": {},
   "source": [
    "### Ans : CTRL + C"
   ]
  },
  {
   "cell_type": "markdown",
   "metadata": {},
   "source": [
    "### 10. How can you tell difference between break and continue?"
   ]
  },
  {
   "cell_type": "markdown",
   "metadata": {},
   "source": [
    "### Ans : when break keyword is encountered, it will exit the loop. In case of continue keyword, the current iteration that is running will be stopped, and it will proceed with the next iteration."
   ]
  },
  {
   "cell_type": "markdown",
   "metadata": {},
   "source": [
    "### 11. in for loop what is difference between range(10), range(0,10), and range (0,10,1)?"
   ]
  },
  {
   "cell_type": "markdown",
   "metadata": {},
   "source": [
    "### Ans : the above stated all three statements are the same there is no difference between them."
   ]
  },
  {
   "cell_type": "markdown",
   "metadata": {},
   "source": [
    "### 12. write program that prints 1 to 10 and then write same program by using while loop"
   ]
  },
  {
   "cell_type": "code",
   "execution_count": 7,
   "metadata": {},
   "outputs": [
    {
     "name": "stdout",
     "output_type": "stream",
     "text": [
      "1\n",
      "2\n",
      "3\n",
      "4\n",
      "5\n",
      "6\n",
      "7\n",
      "8\n",
      "9\n",
      "10\n",
      "1\n",
      "2\n",
      "3\n",
      "4\n",
      "5\n",
      "6\n",
      "7\n",
      "8\n",
      "9\n",
      "10\n"
     ]
    }
   ],
   "source": [
    "for i in range(1,11) :\n",
    "    print(i)\n",
    "num =1\n",
    "while num < 11 :\n",
    "    print(num)\n",
    "    num = num +1"
   ]
  },
  {
   "cell_type": "markdown",
   "metadata": {},
   "source": [
    "### 13. If you had a function named bacon() inside a module named spam how would you call it after importing spam?\n"
   ]
  },
  {
   "cell_type": "markdown",
   "metadata": {},
   "source": [
    "### Ans: spam.bacon()"
   ]
  },
  {
   "cell_type": "code",
   "execution_count": null,
   "metadata": {},
   "outputs": [],
   "source": []
  }
 ],
 "metadata": {
  "kernelspec": {
   "display_name": "Python 3",
   "language": "python",
   "name": "python3"
  },
  "language_info": {
   "codemirror_mode": {
    "name": "ipython",
    "version": 3
   },
   "file_extension": ".py",
   "mimetype": "text/x-python",
   "name": "python",
   "nbconvert_exporter": "python",
   "pygments_lexer": "ipython3",
   "version": "3.8.5"
  }
 },
 "nbformat": 4,
 "nbformat_minor": 4
}
